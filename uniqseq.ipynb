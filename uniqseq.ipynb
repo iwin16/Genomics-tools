{
 "cells": [
  {
   "cell_type": "code",
   "execution_count": 2,
   "id": "c28d381b-7019-43cd-bb08-66ac6b5f65a4",
   "metadata": {},
   "outputs": [
    {
     "name": "stderr",
     "output_type": "stream",
     "text": [
      "usage: ipykernel_launcher.py [-h] [-i INPUT] [-o OUTPUT]\n",
      "ipykernel_launcher.py: error: unrecognized arguments: -f C:\\Users\\iwin\\AppData\\Roaming\\jupyter\\runtime\\kernel-25f6e5cd-59fb-4c39-8899-0ec598dcc971.json\n"
     ]
    },
    {
     "ename": "SystemExit",
     "evalue": "2",
     "output_type": "error",
     "traceback": [
      "An exception has occurred, use %tb to see the full traceback.\n",
      "\u001b[1;31mSystemExit\u001b[0m\u001b[1;31m:\u001b[0m 2\n"
     ]
    }
   ],
   "source": [
    "from Bio import SeqIO\n",
    "import argparse\n",
    "import sys\n",
    "import os\n",
    "\n",
    "def remove_redundant_sequences(input_fastq, output_fastq):\n",
    "    if not os.path.isfile(input_fastq):\n",
    "        print(f\"Error: The input file '{input_fastq}' does not exist.\")\n",
    "        sys.exit(1)\n",
    "\n",
    "    unique_sequences = set()\n",
    "    with open(output_fastq, \"w\") as output_handle:\n",
    "        for record in SeqIO.parse(input_fastq, \"fastq\"):\n",
    "            sequence = str(record.seq)\n",
    "            if sequence not in unique_sequences:\n",
    "                unique_sequences.add(sequence)\n",
    "                SeqIO.write(record, output_handle, \"fastq\")\n",
    "                \n",
    "    print(f\"Redundant sequences removed. Output saved to {output_fastq}\")\n",
    "\n",
    "def count_sequences(fastq_file):\n",
    "    return sum(1 for _ in SeqIO.parse(fastq_file, \"fastq\"))\n",
    "\n",
    "def main():\n",
    "    parser = argparse.ArgumentParser(description=\"Remove redundant sequences from a FASTQ file.\")\n",
    "    parser.add_argument(\"-i\", \"--input\", help=\"Input FASTQ file\")\n",
    "    parser.add_argument(\"-o\", \"--output\", help=\"Output FASTQ file with unique sequences\")\n",
    "    args = parser.parse_args()\n",
    "    \n",
    "    # Check if both input and output files are provided\n",
    "    if not args.input:\n",
    "        print(\"Error: No input file specified. Use the -i option to specify the input FASTQ file.\")\n",
    "        sys.exit(1)\n",
    "    if not args.output:\n",
    "        print(\"Error: No output file specified. Use the -o option to specify the output FASTQ file.\")\n",
    "        sys.exit(1)\n",
    "    \n",
    "    # Check if the input file has .fastq or .fq extension\n",
    "    if not (args.input.endswith(\".fastq\") or args.input.endswith(\".fq\")):\n",
    "        print(\"Error: The input file must have a .fastq or .fq extension.\")\n",
    "        sys.exit(1)\n",
    "    \n",
    "    # Remove redundant sequences and save to output file\n",
    "    remove_redundant_sequences(args.input, args.output)\n",
    "    \n",
    "    # Count sequences in input and output files\n",
    "    count_input = count_sequences(args.input)\n",
    "    count_output = count_sequences(args.output)\n",
    "    \n",
    "    # Calculate and format the percentage of unique sequences\n",
    "    percent_retained = (count_output / count_input) * 100\n",
    "    percent_retained = f\"{percent_retained:.2f}\"\n",
    "    \n",
    "    # Print unique sequences stats\n",
    "    print(\"Unique sequences stats:\")\n",
    "    print(f\"Total number of input sequences: {count_input}\")\n",
    "    print(f\"Total number of output sequences: {count_output}\")\n",
    "    print(f\"Percent of unique sequences: {percent_retained}%\")\n",
    "\n",
    "if __name__ == \"__main__\":\n",
    "    main()\n"
   ]
  },
  {
   "cell_type": "code",
   "execution_count": null,
   "id": "fdce4c40-5e29-49bb-bdbe-9a90bf6abc2e",
   "metadata": {},
   "outputs": [],
   "source": []
  }
 ],
 "metadata": {
  "kernelspec": {
   "display_name": "Python 3 (ipykernel)",
   "language": "python",
   "name": "python3"
  },
  "language_info": {
   "codemirror_mode": {
    "name": "ipython",
    "version": 3
   },
   "file_extension": ".py",
   "mimetype": "text/x-python",
   "name": "python",
   "nbconvert_exporter": "python",
   "pygments_lexer": "ipython3",
   "version": "3.10.15"
  }
 },
 "nbformat": 4,
 "nbformat_minor": 5
}
